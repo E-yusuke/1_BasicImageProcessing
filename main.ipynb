{
 "cells": [
  {
   "cell_type": "code",
   "execution_count": 1,
   "id": "63f822ee-b5cb-493d-8c43-9f2c69bea31c",
   "metadata": {},
   "outputs": [
    {
     "name": "stdout",
     "output_type": "stream",
     "text": [
      "(1232, 1840, 3)\n",
      "(370, 552, 3)\n"
     ]
    },
    {
     "data": {
      "text/plain": [
       "True"
      ]
     },
     "execution_count": 1,
     "metadata": {},
     "output_type": "execute_result"
    }
   ],
   "source": [
    "import cv2\n",
    "\n",
    "img = cv2.imread('../photo/original.JPG')\n",
    "print(img.shape)\n",
    "im_resized = cv2.resize(img, dsize=None, fx=0.3, fy=0.3)\n",
    "print(im_resized.shape)\n",
    "cv2.imwrite('../photo/opencv_0.3.jpg', im_resized, [int(cv2.IMWRITE_JPEG_QUALITY), 100])"
   ]
  },
  {
   "cell_type": "code",
   "execution_count": 2,
   "id": "9624d64c-ff9e-4c93-89c4-b9c2e98d4127",
   "metadata": {},
   "outputs": [
    {
     "name": "stdout",
     "output_type": "stream",
     "text": [
      "(1602, 2392, 3)\n"
     ]
    },
    {
     "data": {
      "text/plain": [
       "True"
      ]
     },
     "execution_count": 2,
     "metadata": {},
     "output_type": "execute_result"
    }
   ],
   "source": [
    "im_resized = cv2.resize(img, dsize=None, fx=1.3, fy=1.3)\n",
    "print(im_resized.shape)\n",
    "cv2.imwrite('../photo/opencv_1.3.jpg', im_resized, [int(cv2.IMWRITE_JPEG_QUALITY), 100])"
   ]
  },
  {
   "cell_type": "code",
   "execution_count": 3,
   "id": "3d6110bf-5ab5-47ce-ba4d-310b2cca36b6",
   "metadata": {},
   "outputs": [
    {
     "name": "stdout",
     "output_type": "stream",
     "text": [
      "(1232, 1840, 3)\n"
     ]
    },
    {
     "data": {
      "text/plain": [
       "True"
      ]
     },
     "execution_count": 3,
     "metadata": {},
     "output_type": "execute_result"
    }
   ],
   "source": [
    "#高さを定義\n",
    "height = img.shape[0]                         \n",
    "#幅を定義\n",
    "width = img.shape[1]  \n",
    "#回転の中心を指定                          \n",
    "center = (int(width/2), int(height/2))\n",
    "#回転角を指定\n",
    "angle = 45.0\n",
    "#スケールを指定\n",
    "scale = 1.0\n",
    "#getRotationMatrix2D関数を使用\n",
    "trans = cv2.getRotationMatrix2D(center, angle , scale)\n",
    "#アフィン変換\n",
    "image2 = cv2.warpAffine(img, trans, (width,height))\n",
    "print(image2.shape)\n",
    "cv2.imwrite('../photo/opencv_rotation.jpg', image2, [int(cv2.IMWRITE_JPEG_QUALITY), 100])"
   ]
  },
  {
   "cell_type": "code",
   "execution_count": 4,
   "id": "29d548ab-e653-440f-9bc6-66e43b279cb6",
   "metadata": {},
   "outputs": [
    {
     "name": "stdout",
     "output_type": "stream",
     "text": [
      "[208 174 144 ... 122 104  87]\n"
     ]
    }
   ],
   "source": [
    "print(img.flatten())"
   ]
  },
  {
   "cell_type": "code",
   "execution_count": 5,
   "id": "e3f5cd28-0a09-4455-95f7-23925a80f16a",
   "metadata": {},
   "outputs": [
    {
     "data": {
      "image/png": "[encoded data removed]",
      "text/plain": [
       "<Figure size 432x288 with 1 Axes>"
      ]
     },
     "metadata": {
      "needs_background": "light"
     },
     "output_type": "display_data"
    }
   ],
   "source": [
    "import matplotlib.pyplot as plt\n",
    "plt.hist(img.flatten(), 100)\n",
    "plt.show()"
   ]
  },
  {
   "cell_type": "code",
   "execution_count": 6,
   "id": "587525f7-10bd-4498-a7ef-e8fcefbd33e4",
   "metadata": {},
   "outputs": [],
   "source": [
    "img2=cv2.imread('../photo/original1.JPG')"
   ]
  },
  {
   "cell_type": "code",
   "execution_count": 11,
   "id": "a0cd50a5-a7c0-4af8-a4c9-f7796c8b3242",
   "metadata": {},
   "outputs": [],
   "source": [
    "# ２値化\n",
    "def binarization(img):\n",
    "    a,img = cv2.threshold(img, 0, 255, cv2.THRESH_BINARY+cv2.THRESH_OTSU)\n",
    "    return img\n"
   ]
  },
  {
   "cell_type": "code",
   "execution_count": 19,
   "id": "47a81f6c-784f-4d05-a971-3aefeee6fab2",
   "metadata": {},
   "outputs": [],
   "source": [
    "# 差分を数値化\n",
    "def getDiff(img1, img2):\n",
    "    # グレースケール変換\n",
    "    img1 = cv2.cvtColor(img1, cv2.COLOR_BGR2GRAY)\n",
    "    img2 = cv2.cvtColor(img2, cv2.COLOR_BGR2GRAY)\n",
    "    # 差分取得\n",
    "    mask = cv2.absdiff(img1, img2)\n",
    "    # ２値化\n",
    "    bi = binarization(mask)\n",
    "    return bi # 白の要素数"
   ]
  },
  {
   "cell_type": "code",
   "execution_count": 13,
   "id": "f397e55f-e0de-42cd-93d4-6e326a2daf50",
   "metadata": {},
   "outputs": [
    {
     "data": {
      "text/plain": [
       "True"
      ]
     },
     "execution_count": 13,
     "metadata": {},
     "output_type": "execute_result"
    }
   ],
   "source": [
    "gray1,gray2,binari=getDiff(img,img2)\n",
    "cv2.imwrite('../photo/opencv_gray1.jpg', gray1, [int(cv2.IMWRITE_JPEG_QUALITY), 100])\n",
    "cv2.imwrite('../photo/opencv_gray2.jpg', gray2, [int(cv2.IMWRITE_JPEG_QUALITY), 100])\n",
    "cv2.imwrite('../photo/opencv_binari.jpg', binari,[int(cv2.IMWRITE_JPEG_QUALITY), 100])"
   ]
  },
  {
   "cell_type": "code",
   "execution_count": 20,
   "id": "a2554188-2e65-4c1d-86e8-ed4484da7901",
   "metadata": {},
   "outputs": [
    {
     "name": "stdout",
     "output_type": "stream",
     "text": [
      "[[  0   0   0 ...   0   0   0]\n",
      " [  0   0   0 ...   0   0   0]\n",
      " [  0   0   0 ...   0   0   0]\n",
      " ...\n",
      " [  0   0   0 ... 255 255 255]\n",
      " [  0   0   0 ... 255 255 255]\n",
      " [  0   0   0 ... 255 255 255]]\n"
     ]
    },
    {
     "data": {
      "text/plain": [
       "True"
      ]
     },
     "execution_count": 20,
     "metadata": {},
     "output_type": "execute_result"
    }
   ],
   "source": [
    "mask=getDiff(img,img2)\n",
    "print(mask)\n",
    "cv2.imwrite('../photo/opencv_difference.jpg', mask,[int(cv2.IMWRITE_JPEG_QUALITY), 100])"
   ]
  },
  {
   "cell_type": "code",
   "execution_count": null,
   "id": "bd548a6f-5b26-4788-91c1-48eb9aa7cca7",
   "metadata": {},
   "outputs": [],
   "source": []
  }
 ],
 "metadata": {
  "kernelspec": {
   "display_name": "Python 3",
   "language": "python",
   "name": "python3"
  },
  "language_info": {
   "codemirror_mode": {
    "name": "ipython",
    "version": 3
   },
   "file_extension": ".py",
   "mimetype": "text/x-python",
   "name": "python",
   "nbconvert_exporter": "python",
   "pygments_lexer": "ipython3",
   "version": "3.9.2"
  }
 },
 "nbformat": 4,
 "nbformat_minor": 5
}
